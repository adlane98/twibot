{
 "cells": [
  {
   "cell_type": "code",
   "execution_count": 14,
   "metadata": {
    "collapsed": true
   },
   "outputs": [],
   "source": [
    "import matplotlib.pyplot as plt\n",
    "import numpy as np\n",
    "from pathlib import Path"
   ]
  },
  {
   "cell_type": "code",
   "execution_count": 6,
   "outputs": [],
   "source": [
    "sim_matrix_path = Path(r\"/home/adlane/projets/twinit-dataset/debug/sim_matrix/comb_6/similarity_matrix.csv\")"
   ],
   "metadata": {
    "collapsed": false
   }
  },
  {
   "cell_type": "code",
   "execution_count": 28,
   "outputs": [],
   "source": [
    "sim_matrix = np.genfromtxt(str(sim_matrix_path), delimiter=\";\")"
   ],
   "metadata": {
    "collapsed": false
   }
  },
  {
   "cell_type": "code",
   "execution_count": 29,
   "outputs": [
    {
     "data": {
      "text/plain": "85.5"
     },
     "execution_count": 29,
     "metadata": {},
     "output_type": "execute_result"
    }
   ],
   "source": [
    "np.median(np.diag(sim_matrix))"
   ],
   "metadata": {
    "collapsed": false
   }
  },
  {
   "cell_type": "code",
   "execution_count": 30,
   "outputs": [
    {
     "data": {
      "text/plain": "{'whiskers': [<matplotlib.lines.Line2D at 0x7f82ebf5caf0>,\n  <matplotlib.lines.Line2D at 0x7f82ebf5cc40>],\n 'caps': [<matplotlib.lines.Line2D at 0x7f82ebf5cbb0>,\n  <matplotlib.lines.Line2D at 0x7f82ebf70040>],\n 'boxes': [<matplotlib.lines.Line2D at 0x7f82ee3bbca0>],\n 'medians': [<matplotlib.lines.Line2D at 0x7f82ebf70550>],\n 'fliers': [<matplotlib.lines.Line2D at 0x7f82ebf70910>],\n 'means': []}"
     },
     "execution_count": 30,
     "metadata": {},
     "output_type": "execute_result"
    },
    {
     "data": {
      "text/plain": "<Figure size 640x480 with 1 Axes>",
      "image/png": "[encoded data removed]"
     },
     "metadata": {},
     "output_type": "display_data"
    }
   ],
   "source": [
    "plt.boxplot(np.diag(sim_matrix))"
   ],
   "metadata": {
    "collapsed": false
   }
  },
  {
   "cell_type": "code",
   "execution_count": 31,
   "outputs": [
    {
     "data": {
      "text/plain": "array([[ 31.,   0.,   0., ...,   0.,   0.,   0.],\n       [ 16.,  13.,   0., ...,   0.,   0.,   0.],\n       [ 10.,   7.,  50., ...,   0.,   0.,   0.],\n       ...,\n       [ 17.,   9.,   2., ...,   9.,   0.,   0.],\n       [ 10.,   0.,   3., ...,   3.,  85.,   0.],\n       [  3.,   2.,   0., ...,   0.,   3., 390.]])"
     },
     "execution_count": 31,
     "metadata": {},
     "output_type": "execute_result"
    }
   ],
   "source": [
    "np.tril(sim_matrix)"
   ],
   "metadata": {
    "collapsed": false
   }
  },
  {
   "cell_type": "code",
   "execution_count": 32,
   "outputs": [
    {
     "data": {
      "text/plain": "(array([  1,   2,   2, ..., 119, 119, 119]),\n array([  0,   0,   1, ..., 116, 117, 118]))"
     },
     "execution_count": 32,
     "metadata": {},
     "output_type": "execute_result"
    }
   ],
   "source": [
    "np.where(np.tri(*sim_matrix.shape, k=-1, dtype=bool))"
   ],
   "metadata": {
    "collapsed": false
   }
  },
  {
   "cell_type": "code",
   "execution_count": 34,
   "outputs": [],
   "source": [
    "other_values = sim_matrix[np.where(np.tri(*sim_matrix.shape, k=-1, dtype=bool))]"
   ],
   "metadata": {
    "collapsed": false
   }
  },
  {
   "cell_type": "code",
   "execution_count": 35,
   "outputs": [
    {
     "data": {
      "text/plain": "{'whiskers': [<matplotlib.lines.Line2D at 0x7f82ec27d640>,\n  <matplotlib.lines.Line2D at 0x7f82ec27dd00>],\n 'caps': [<matplotlib.lines.Line2D at 0x7f82ec27f340>,\n  <matplotlib.lines.Line2D at 0x7f82ec27f6a0>],\n 'boxes': [<matplotlib.lines.Line2D at 0x7f82ec27d310>],\n 'medians': [<matplotlib.lines.Line2D at 0x7f82ec27fa00>],\n 'fliers': [<matplotlib.lines.Line2D at 0x7f82ec27fd00>],\n 'means': []}"
     },
     "execution_count": 35,
     "metadata": {},
     "output_type": "execute_result"
    },
    {
     "data": {
      "text/plain": "<Figure size 640x480 with 1 Axes>",
      "image/png": "[encoded data removed]"
     },
     "metadata": {},
     "output_type": "display_data"
    }
   ],
   "source": [
    "plt.boxplot(other_values)"
   ],
   "metadata": {
    "collapsed": false
   }
  },
  {
   "cell_type": "code",
   "execution_count": 39,
   "outputs": [
    {
     "data": {
      "text/plain": "3.175490196078431"
     },
     "execution_count": 39,
     "metadata": {},
     "output_type": "execute_result"
    }
   ],
   "source": [
    "np.mean(other_values)"
   ],
   "metadata": {
    "collapsed": false
   }
  },
  {
   "cell_type": "code",
   "execution_count": 40,
   "outputs": [],
   "source": [
    "diag_values = np.diag(sim_matrix)"
   ],
   "metadata": {
    "collapsed": false
   }
  },
  {
   "cell_type": "code",
   "execution_count": 41,
   "outputs": [],
   "source": [
    "threshold = 10"
   ],
   "metadata": {
    "collapsed": false
   }
  },
  {
   "cell_type": "code",
   "execution_count": 42,
   "outputs": [
    {
     "data": {
      "text/plain": "117"
     },
     "execution_count": 42,
     "metadata": {},
     "output_type": "execute_result"
    }
   ],
   "source": [
    "np.sum(diag_values > threshold)"
   ],
   "metadata": {
    "collapsed": false
   }
  },
  {
   "cell_type": "code",
   "execution_count": 44,
   "outputs": [
    {
     "data": {
      "text/plain": "6783"
     },
     "execution_count": 44,
     "metadata": {},
     "output_type": "execute_result"
    }
   ],
   "source": [
    "np.sum(other_values <= threshold)"
   ],
   "metadata": {
    "collapsed": false
   }
  },
  {
   "cell_type": "code",
   "execution_count": 69,
   "outputs": [],
   "source": [
    "thresholds = np.array(range(1, 100))\n",
    "correct_values_by_threshold = []\n",
    "false_values_by_threshold = []\n",
    "correct_values_by_threshold_ratio = []\n",
    "false_values_by_threshold_ratio = []"
   ],
   "metadata": {
    "collapsed": false
   }
  },
  {
   "cell_type": "code",
   "execution_count": 70,
   "outputs": [],
   "source": [
    "for th in thresholds:\n",
    "    correct_values_by_threshold.append(np.sum(diag_values >= th))\n",
    "    false_values_by_threshold.append(np.sum(other_values >= th))\n",
    "    correct_values_by_threshold_ratio.append(np.sum(diag_values >= th) / len(diag_values) * 100)\n",
    "    false_values_by_threshold_ratio.append(np.sum(other_values >= th) / len(other_values) * 100)\n",
    "correct_values_by_threshold = np.array(correct_values_by_threshold)\n",
    "false_values_by_threshold = np.array(false_values_by_threshold)\n",
    "correct_values_by_threshold_ratio = np.array(correct_values_by_threshold_ratio)\n",
    "false_values_by_threshold_ratio = np.array(false_values_by_threshold_ratio)"
   ],
   "metadata": {
    "collapsed": false
   }
  },
  {
   "cell_type": "code",
   "execution_count": 72,
   "outputs": [],
   "source": [
    "metrics = np.array(\n",
    "    [correct_values_by_threshold,\n",
    "    false_values_by_threshold,\n",
    "    correct_values_by_threshold_ratio,\n",
    "    false_values_by_threshold_ratio]\n",
    ").transpose()"
   ],
   "metadata": {
    "collapsed": false
   }
  },
  {
   "cell_type": "code",
   "execution_count": 75,
   "outputs": [
    {
     "data": {
      "text/plain": "<Figure size 640x480 with 1 Axes>",
      "image/png": "[encoded data removed]"
     },
     "metadata": {},
     "output_type": "display_data"
    }
   ],
   "source": [
    "plt.plot(thresholds, metrics[:, 2], color=\"g\", label=\"correct\")\n",
    "plt.plot(thresholds, metrics[:, 3], color=\"r\", label=\"false\")\n",
    "plt.show()"
   ],
   "metadata": {
    "collapsed": false
   }
  },
  {
   "cell_type": "code",
   "execution_count": 90,
   "outputs": [
    {
     "name": "stderr",
     "output_type": "stream",
     "text": [
      "/tmp/ipykernel_16460/3564437640.py:28: RuntimeWarning: invalid value encountered in long_scalars\n",
      "  prec = tp / (tp + fp)\n",
      "/tmp/ipykernel_16460/3564437640.py:28: RuntimeWarning: invalid value encountered in long_scalars\n",
      "  prec = tp / (tp + fp)\n",
      "/tmp/ipykernel_16460/3564437640.py:28: RuntimeWarning: invalid value encountered in long_scalars\n",
      "  prec = tp / (tp + fp)\n",
      "/tmp/ipykernel_16460/3564437640.py:28: RuntimeWarning: invalid value encountered in long_scalars\n",
      "  prec = tp / (tp + fp)\n",
      "/tmp/ipykernel_16460/3564437640.py:28: RuntimeWarning: invalid value encountered in long_scalars\n",
      "  prec = tp / (tp + fp)\n",
      "/tmp/ipykernel_16460/3564437640.py:28: RuntimeWarning: invalid value encountered in long_scalars\n",
      "  prec = tp / (tp + fp)\n",
      "/tmp/ipykernel_16460/3564437640.py:28: RuntimeWarning: invalid value encountered in long_scalars\n",
      "  prec = tp / (tp + fp)\n",
      "/tmp/ipykernel_16460/3564437640.py:28: RuntimeWarning: invalid value encountered in long_scalars\n",
      "  prec = tp / (tp + fp)\n",
      "/tmp/ipykernel_16460/3564437640.py:28: RuntimeWarning: invalid value encountered in long_scalars\n",
      "  prec = tp / (tp + fp)\n",
      "/tmp/ipykernel_16460/3564437640.py:28: RuntimeWarning: invalid value encountered in long_scalars\n",
      "  prec = tp / (tp + fp)\n",
      "/tmp/ipykernel_16460/3564437640.py:28: RuntimeWarning: invalid value encountered in long_scalars\n",
      "  prec = tp / (tp + fp)\n",
      "/tmp/ipykernel_16460/3564437640.py:28: RuntimeWarning: invalid value encountered in long_scalars\n",
      "  prec = tp / (tp + fp)\n",
      "/tmp/ipykernel_16460/3564437640.py:28: RuntimeWarning: invalid value encountered in long_scalars\n",
      "  prec = tp / (tp + fp)\n",
      "/tmp/ipykernel_16460/3564437640.py:28: RuntimeWarning: invalid value encountered in long_scalars\n",
      "  prec = tp / (tp + fp)\n",
      "/tmp/ipykernel_16460/3564437640.py:28: RuntimeWarning: invalid value encountered in long_scalars\n",
      "  prec = tp / (tp + fp)\n",
      "/tmp/ipykernel_16460/3564437640.py:28: RuntimeWarning: invalid value encountered in long_scalars\n",
      "  prec = tp / (tp + fp)\n",
      "/tmp/ipykernel_16460/3564437640.py:28: RuntimeWarning: invalid value encountered in long_scalars\n",
      "  prec = tp / (tp + fp)\n",
      "/tmp/ipykernel_16460/3564437640.py:28: RuntimeWarning: invalid value encountered in long_scalars\n",
      "  prec = tp / (tp + fp)\n",
      "/tmp/ipykernel_16460/3564437640.py:28: RuntimeWarning: invalid value encountered in long_scalars\n",
      "  prec = tp / (tp + fp)\n",
      "/tmp/ipykernel_16460/3564437640.py:28: RuntimeWarning: invalid value encountered in long_scalars\n",
      "  prec = tp / (tp + fp)\n",
      "/tmp/ipykernel_16460/3564437640.py:28: RuntimeWarning: invalid value encountered in long_scalars\n",
      "  prec = tp / (tp + fp)\n",
      "/tmp/ipykernel_16460/3564437640.py:28: RuntimeWarning: invalid value encountered in long_scalars\n",
      "  prec = tp / (tp + fp)\n",
      "/tmp/ipykernel_16460/3564437640.py:28: RuntimeWarning: invalid value encountered in long_scalars\n",
      "  prec = tp / (tp + fp)\n",
      "/tmp/ipykernel_16460/3564437640.py:28: RuntimeWarning: invalid value encountered in long_scalars\n",
      "  prec = tp / (tp + fp)\n",
      "/tmp/ipykernel_16460/3564437640.py:28: RuntimeWarning: invalid value encountered in long_scalars\n",
      "  prec = tp / (tp + fp)\n",
      "/tmp/ipykernel_16460/3564437640.py:28: RuntimeWarning: invalid value encountered in long_scalars\n",
      "  prec = tp / (tp + fp)\n",
      "/tmp/ipykernel_16460/3564437640.py:28: RuntimeWarning: invalid value encountered in long_scalars\n",
      "  prec = tp / (tp + fp)\n",
      "/tmp/ipykernel_16460/3564437640.py:28: RuntimeWarning: invalid value encountered in long_scalars\n",
      "  prec = tp / (tp + fp)\n",
      "/tmp/ipykernel_16460/3564437640.py:28: RuntimeWarning: invalid value encountered in long_scalars\n",
      "  prec = tp / (tp + fp)\n",
      "/tmp/ipykernel_16460/3564437640.py:28: RuntimeWarning: invalid value encountered in long_scalars\n",
      "  prec = tp / (tp + fp)\n",
      "/tmp/ipykernel_16460/3564437640.py:28: RuntimeWarning: invalid value encountered in long_scalars\n",
      "  prec = tp / (tp + fp)\n",
      "/tmp/ipykernel_16460/3564437640.py:28: RuntimeWarning: invalid value encountered in long_scalars\n",
      "  prec = tp / (tp + fp)\n",
      "/tmp/ipykernel_16460/3564437640.py:28: RuntimeWarning: invalid value encountered in long_scalars\n",
      "  prec = tp / (tp + fp)\n",
      "/tmp/ipykernel_16460/3564437640.py:28: RuntimeWarning: invalid value encountered in long_scalars\n",
      "  prec = tp / (tp + fp)\n",
      "/tmp/ipykernel_16460/3564437640.py:28: RuntimeWarning: invalid value encountered in long_scalars\n",
      "  prec = tp / (tp + fp)\n",
      "/tmp/ipykernel_16460/3564437640.py:28: RuntimeWarning: invalid value encountered in long_scalars\n",
      "  prec = tp / (tp + fp)\n",
      "/tmp/ipykernel_16460/3564437640.py:28: RuntimeWarning: invalid value encountered in long_scalars\n",
      "  prec = tp / (tp + fp)\n",
      "/tmp/ipykernel_16460/3564437640.py:28: RuntimeWarning: invalid value encountered in long_scalars\n",
      "  prec = tp / (tp + fp)\n",
      "/tmp/ipykernel_16460/3564437640.py:28: RuntimeWarning: invalid value encountered in long_scalars\n",
      "  prec = tp / (tp + fp)\n",
      "/tmp/ipykernel_16460/3564437640.py:28: RuntimeWarning: invalid value encountered in long_scalars\n",
      "  prec = tp / (tp + fp)\n",
      "/tmp/ipykernel_16460/3564437640.py:28: RuntimeWarning: invalid value encountered in long_scalars\n",
      "  prec = tp / (tp + fp)\n",
      "/tmp/ipykernel_16460/3564437640.py:28: RuntimeWarning: invalid value encountered in long_scalars\n",
      "  prec = tp / (tp + fp)\n"
     ]
    }
   ],
   "source": [
    "thresholds = np.array(range(1, 100))\n",
    "metrics = {}\n",
    "\n",
    "for id_comb in range(1, 421):\n",
    "    comb_str = f\"comb_{id_comb}\"\n",
    "    sim_matrix_path = Path(\"/home/adlane/projets/twinit-dataset/debug/sim_matrix/\") / comb_str / \"similarity_matrix.csv\"\n",
    "    sim_matrix = np.genfromtxt(str(sim_matrix_path), delimiter=\";\")\n",
    "    other_values = sim_matrix[np.where(np.tri(*sim_matrix.shape, k=-1, dtype=bool))]\n",
    "    diag_values = np.diag(sim_matrix)\n",
    "\n",
    "    true_positives = []\n",
    "    false_positives = []\n",
    "    true_negatives = []\n",
    "    false_negatives = []\n",
    "    precision = []\n",
    "    recall = []\n",
    "    accuracy = []\n",
    "    f1_score = []\n",
    "    true_positives_ratio = []\n",
    "    false_positives_ratio = []\n",
    "    mean_ratio = []\n",
    "\n",
    "    for th in thresholds:\n",
    "        tp = np.sum(diag_values >= th)\n",
    "        fp = np.sum(other_values >= th)\n",
    "        tn = len(other_values) - fp\n",
    "        fn = len(diag_values) - tp\n",
    "        prec = tp / (tp + fp)\n",
    "        rec = tp / (tp + fn)\n",
    "        acc = (tp + tn) / (tp + tn + fn + fp)\n",
    "        tp_ratio = tp / len(diag_values) * 100\n",
    "        fp_ratio = fp / len(other_values) * 100\n",
    "\n",
    "        true_positives.append(tp)\n",
    "        false_positives.append(fp)\n",
    "        true_negatives.append(tn)\n",
    "        false_negatives.append(fn)\n",
    "\n",
    "        precision.append(prec)\n",
    "        recall.append(rec)\n",
    "        accuracy.append(acc)\n",
    "        f1_score.append(2 * (prec * rec) / (prec + rec))\n",
    "\n",
    "        true_positives_ratio.append(tp_ratio)\n",
    "        false_positives_ratio.append(fp_ratio)\n",
    "\n",
    "        mean_ratio.append((tp_ratio + (100 - fp_ratio)) / 2)\n",
    "\n",
    "    true_positives = np.array(true_positives)\n",
    "    false_positives = np.array(false_positives)\n",
    "    true_negatives = np.array(true_negatives)\n",
    "    false_negatives = np.array(false_negatives)\n",
    "\n",
    "    precision = np.array(precision)\n",
    "    recall = np.array(recall)\n",
    "    accuracy = np.array(accuracy)\n",
    "    f1_score = np.array(f1_score)\n",
    "    true_positives_ratio = np.array(true_positives_ratio)\n",
    "    false_positives_ratio = np.array(false_positives_ratio)\n",
    "\n",
    "    metrics[comb_str] = np.array(\n",
    "        [true_positives,\n",
    "         false_positives,\n",
    "         true_negatives,\n",
    "         false_negatives,\n",
    "         precision,\n",
    "         recall,\n",
    "         accuracy,\n",
    "         f1_score,\n",
    "         true_positives_ratio,\n",
    "         false_positives_ratio,\n",
    "         mean_ratio]\n",
    "    ).transpose()\n",
    "\n",
    "    plt.plot(thresholds, metrics[comb_str][:, 8], color=\"g\", label=\"correct\")\n",
    "    plt.plot(thresholds, metrics[comb_str][:, 9], color=\"r\", label=\"false\")\n",
    "    plt.savefig(sim_matrix_path.parent / \"metrics.png\")\n",
    "    plt.close()"
   ],
   "metadata": {
    "collapsed": false
   }
  },
  {
   "cell_type": "code",
   "execution_count": 91,
   "outputs": [],
   "source": [
    "best_threshold_by_comb = {}\n",
    "for k, met in metrics.items():\n",
    "    best_threshold_by_comb[k] = (np.max(met[:, 7]), np.argmax(met[:, 7]) + 1)"
   ],
   "metadata": {
    "collapsed": false
   }
  },
  {
   "cell_type": "code",
   "execution_count": 92,
   "outputs": [
    {
     "name": "stdout",
     "output_type": "stream",
     "text": [
      "0.9487179487179489\n",
      "21\n",
      "comb_335\n"
     ]
    }
   ],
   "source": [
    "best_thres = best_threshold_by_comb[\"comb_1\"][1]\n",
    "best_value = best_threshold_by_comb[\"comb_1\"][0]\n",
    "best_comb = \"comb 1\"\n",
    "for comb, (value, th) in best_threshold_by_comb.items():\n",
    "    current_thres = best_threshold_by_comb[comb][1]\n",
    "    current_value = best_threshold_by_comb[comb][0]\n",
    "    if best_value < current_value:\n",
    "        best_value = current_value\n",
    "        best_thres = current_thres\n",
    "        best_comb = comb\n",
    "\n",
    "print(best_value)\n",
    "print(best_thres)\n",
    "print(best_comb)"
   ],
   "metadata": {
    "collapsed": false
   }
  },
  {
   "cell_type": "code",
   "execution_count": null,
   "outputs": [],
   "source": [],
   "metadata": {
    "collapsed": false
   }
  }
 ],
 "metadata": {
  "kernelspec": {
   "display_name": "Python 3",
   "language": "python",
   "name": "python3"
  },
  "language_info": {
   "codemirror_mode": {
    "name": "ipython",
    "version": 2
   },
   "file_extension": ".py",
   "mimetype": "text/x-python",
   "name": "python",
   "nbconvert_exporter": "python",
   "pygments_lexer": "ipython2",
   "version": "2.7.6"
  }
 },
 "nbformat": 4,
 "nbformat_minor": 0
}
