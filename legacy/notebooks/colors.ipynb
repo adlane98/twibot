{
 "cells": [
  {
   "cell_type": "code",
   "execution_count": 8,
   "outputs": [],
   "source": [
    "import matplotlib.pyplot as plt\n",
    "import numpy as np"
   ],
   "metadata": {
    "collapsed": false,
    "ExecuteTime": {
     "start_time": "2023-03-30T15:42:42.573224Z",
     "end_time": "2023-03-30T15:42:42.783267Z"
    }
   }
  },
  {
   "cell_type": "code",
   "execution_count": 9,
   "outputs": [],
   "source": [
    "colors_hex = [\n",
    "    \"#2f4f4f\",\n",
    "    \"#228b22\",\n",
    "    \"#ff4500\",\n",
    "    \"#ffff00\",\n",
    "    \"#c71585\",\n",
    "    \"#0000cd\",\n",
    "    \"#00ff00\",\n",
    "    \"#00ffff\",\n",
    "    \"#1e90ff\",\n",
    "    \"#ffdead\"\n",
    "]\n",
    "colors_rgb = []\n",
    "for c in colors_hex:\n",
    "    c = c.lstrip(\"#\")\n",
    "    colors_rgb.append(tuple(int(c[i:i+2], 16) for i in (0, 2, 4)))\n"
   ],
   "metadata": {
    "collapsed": false,
    "ExecuteTime": {
     "start_time": "2023-03-30T15:42:42.786358Z",
     "end_time": "2023-03-30T15:42:42.830187Z"
    }
   }
  },
  {
   "cell_type": "code",
   "execution_count": 12,
   "outputs": [],
   "source": [
    "blank_image = np.zeros((50, 500, 3), dtype=int)\n",
    "for i, rgb in enumerate(colors_rgb):\n",
    "    blank_image[:, i*50:(i+1)*50, :] = np.array(rgb)"
   ],
   "metadata": {
    "collapsed": false,
    "ExecuteTime": {
     "start_time": "2023-03-30T15:43:05.984403Z",
     "end_time": "2023-03-30T15:43:05.987764Z"
    }
   }
  },
  {
   "cell_type": "code",
   "execution_count": 13,
   "outputs": [
    {
     "data": {
      "text/plain": "<matplotlib.image.AxesImage at 0x7fcaef32f760>"
     },
     "execution_count": 13,
     "metadata": {},
     "output_type": "execute_result"
    },
    {
     "data": {
      "text/plain": "<Figure size 640x480 with 1 Axes>",
      "image/png": "[encoded data removed]"
     },
     "metadata": {},
     "output_type": "display_data"
    }
   ],
   "source": [
    "plt.imshow(blank_image)"
   ],
   "metadata": {
    "collapsed": false,
    "ExecuteTime": {
     "start_time": "2023-03-30T15:43:06.313773Z",
     "end_time": "2023-03-30T15:43:06.388340Z"
    }
   }
  },
  {
   "cell_type": "code",
   "execution_count": null,
   "outputs": [],
   "source": [],
   "metadata": {
    "collapsed": false
   }
  }
 ],
 "metadata": {
  "kernelspec": {
   "display_name": "Python 3",
   "language": "python",
   "name": "python3"
  },
  "language_info": {
   "codemirror_mode": {
    "name": "ipython",
    "version": 2
   },
   "file_extension": ".py",
   "mimetype": "text/x-python",
   "name": "python",
   "nbconvert_exporter": "python",
   "pygments_lexer": "ipython2",
   "version": "2.7.6"
  }
 },
 "nbformat": 4,
 "nbformat_minor": 0
}
