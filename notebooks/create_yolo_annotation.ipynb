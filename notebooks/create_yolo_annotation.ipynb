{
 "cells": [
  {
   "cell_type": "code",
   "execution_count": 2,
   "metadata": {
    "collapsed": true,
    "pycharm": {
     "name": "#%%\n"
    }
   },
   "outputs": [],
   "source": [
    "from pathlib import Path\n",
    "\n",
    "from game import Game\n",
    "from image import TwinitImage"
   ]
  },
  {
   "cell_type": "code",
   "execution_count": 3,
   "outputs": [],
   "source": [
    "base_path = Path(r\"E:\\twibot\\twinit-dataset\\video-3\")\n",
    "game = Game(Path(r\"E:\\twibot\\twinit-dataset\\twinit-ref.png\"))\n",
    "ann_path = base_path / \"annotations\"\n",
    "ann_path.mkdir(exist_ok=True)\n",
    "\n",
    "for image_path in base_path.glob(\"*.jpg\"):\n",
    "    image = TwinitImage(image_path, game, None)\n",
    "    image.segment_cards()\n",
    "    yolo_string = []\n",
    "\n",
    "    for card in image.cards:\n",
    "        yolo_string.append(f\"0 {card.yolo_bbox[0]:.4f} {card.yolo_bbox[1]:.4f} {card.yolo_bbox[2]:.4f} {card.yolo_bbox[3]:.4f}\\n\")\n",
    "\n",
    "    with open(ann_path / f\"{image_path.stem}.txt\", \"w\") as f:\n",
    "        f.writelines(yolo_string)"
   ],
   "metadata": {
    "collapsed": false,
    "pycharm": {
     "name": "#%%\n"
    }
   }
  },
  {
   "cell_type": "code",
   "execution_count": null,
   "outputs": [],
   "source": [],
   "metadata": {
    "collapsed": false,
    "pycharm": {
     "name": "#%%\n"
    }
   }
  }
 ],
 "metadata": {
  "kernelspec": {
   "display_name": "Python 3",
   "language": "python",
   "name": "python3"
  },
  "language_info": {
   "codemirror_mode": {
    "name": "ipython",
    "version": 2
   },
   "file_extension": ".py",
   "mimetype": "text/x-python",
   "name": "python",
   "nbconvert_exporter": "python",
   "pygments_lexer": "ipython2",
   "version": "2.7.6"
  }
 },
 "nbformat": 4,
 "nbformat_minor": 0
}